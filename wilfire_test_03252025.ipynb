{
 "cells": [
  {
   "cell_type": "code",
   "execution_count": 1,
   "id": "7fd5185b-949c-46ef-bb4d-7f125ad67472",
   "metadata": {
    "tags": []
   },
   "outputs": [
    {
     "name": "stdout",
     "output_type": "stream",
     "text": [
      "done\n"
     ]
    }
   ],
   "source": [
    "from climakitae.core.data_interface import (\n",
    "    get_data_options, \n",
    "    get_subsetting_options, \n",
    "    get_data\n",
    ")\n",
    "# import climakitae as ck\n",
    "\n",
    "import numpy as np\n",
    "import matplotlib.pyplot as plt\n",
    "import xarray as xr\n",
    "import cartopy.crs as ccrs\n",
    "import cartopy.feature as cfeature\n",
    "from matplotlib.backends.backend_pdf import PdfPages\n",
    "import time\n",
    "from pyproj import Transformer\n",
    "import geopandas as gpd\n",
    "from shapely.geometry import Point\n",
    "import contextily as cx\n",
    "import psutil\n",
    "import xarray as xr\n",
    "import dask\n",
    "import dask.array as da\n",
    "from dask.distributed import Client, LocalCluster, progress\n",
    "from dask.diagnostics import ProgressBar\n",
    "import logging\n",
    "\n",
    "# Create a log file\n",
    "logging.basicConfig(filename='wildfire_output_tests.log', level=logging.INFO)\n",
    "print('done')"
   ]
  },
  {
   "cell_type": "code",
   "execution_count": 2,
   "id": "e945283e-3f98-466e-8f34-0f470283ab50",
   "metadata": {
    "tags": []
   },
   "outputs": [
    {
     "name": "stdout",
     "output_type": "stream",
     "text": [
      "Air Temperature at 2m DegF Dynamical hourly [2.0]\n",
      "Processing variable: Air Temperature at 2m\n",
      "!!!!!!!!!!!!!!!!!!!!!!!!!!!!!!!!!!!!!!!!!!!!!!!!!!!!!!!!!!!!!!!!!!!!!!!!!!!!!!!!!!!!!!!!!!!!!!!!!!\n",
      "!!! Returned data array is huge. Operations could take 10x to infinity longer than 1GB of data !!!\n",
      "!!!!!!!!!!!!!!!!!!!!!!!!!!!!!!!!!!!!!!!!!!!!!!!!!!!!!!!!!!!!!!!!!!!!!!!!!!!!!!!!!!!!!!!!!!!!!!!!!!\n",
      "\n",
      "data retreived in 54.31 seconds.\n",
      "Wind speed at 10m mph Dynamical hourly [2.0]\n",
      "Processing variable: Wind speed at 10m\n",
      "!!!!!!!!!!!!!!!!!!!!!!!!!!!!!!!!!!!!!!!!!!!!!!!!!!!!!!!!!!!!!!!!!!!!!!!!!!!!!!!!!!!!!!!!!!!!!!!!!!\n",
      "!!! Returned data array is huge. Operations could take 10x to infinity longer than 1GB of data !!!\n",
      "!!!!!!!!!!!!!!!!!!!!!!!!!!!!!!!!!!!!!!!!!!!!!!!!!!!!!!!!!!!!!!!!!!!!!!!!!!!!!!!!!!!!!!!!!!!!!!!!!!\n",
      "\n",
      "data retreived in 125.25 seconds.\n",
      "Relative humidity percent Dynamical hourly [2.0]\n",
      "Processing variable: Relative humidity\n",
      "!!!!!!!!!!!!!!!!!!!!!!!!!!!!!!!!!!!!!!!!!!!!!!!!!!!!!!!!!!!!!!!!!!!!!!!!!!!!!!!!!!!!!!!!!!!!!!!!!!\n",
      "!!! Returned data array is huge. Operations could take 10x to infinity longer than 1GB of data !!!\n",
      "!!!!!!!!!!!!!!!!!!!!!!!!!!!!!!!!!!!!!!!!!!!!!!!!!!!!!!!!!!!!!!!!!!!!!!!!!!!!!!!!!!!!!!!!!!!!!!!!!!\n",
      "\n",
      "data retreived in 100.36 seconds.\n",
      "data grouped in 0.01 seconds.\n",
      "<xarray.Dataset> Size: 902GB\n",
      "Dimensions:                (warming_level: 1, x: 149, y: 240,\n",
      "                            time_delta: 262800, simulation: 8)\n",
      "Coordinates: (12/13)\n",
      "  * warming_level          (warming_level) float64 8B 2.0\n",
      "  * x                      (x) float64 1kB -4.236e+06 -4.233e+06 ... -3.792e+06\n",
      "  * y                      (y) float64 2kB 5.899e+05 5.929e+05 ... 1.307e+06\n",
      "    lakemask               (y, x) float32 143kB 0.0 0.0 0.0 0.0 ... 0.0 0.0 0.0\n",
      "    landmask               (y, x) float32 143kB 0.0 0.0 0.0 0.0 ... 1.0 1.0 1.0\n",
      "    lat                    (y, x) float32 143kB 31.49 31.5 31.52 ... 39.19 39.21\n",
      "    ...                     ...\n",
      "    Lambert_Conformal      int64 8B 0\n",
      "  * time_delta             (time_delta) float64 2MB -1.314e+05 ... 1.314e+05\n",
      "    centered_year          (simulation) int64 64B 2043 2049 2034 ... 2045 2040\n",
      "  * simulation             (simulation) <U44 1kB 'WRF_CESM2_r11i1p1f1_histori...\n",
      "    hour_of_year           (time_delta) float64 2MB 0.0 1.0 ... 8.759e+03\n",
      "    month                  (time_delta) int64 2MB 1 1 1 1 1 1 ... 12 12 12 12 12\n",
      "Data variables:\n",
      "    Air Temperature at 2m  (warming_level, time_delta, y, x, simulation) float32 301GB dask.array<chunksize=(1, 288, 24, 9, 1), meta=np.ndarray>\n",
      "    Relative humidity      (warming_level, time_delta, y, x, simulation) float32 301GB dask.array<chunksize=(1, 288, 24, 9, 1), meta=np.ndarray>\n",
      "    Wind speed at 10m      (warming_level, time_delta, y, x, simulation) float32 301GB dask.array<chunksize=(1, 288, 24, 9, 1), meta=np.ndarray>\n"
     ]
    }
   ],
   "source": [
    "# variables_units = (\"Fosberg fire weather index\",\"[0 to 100]\",\"Dynamical\",\"hourly\",[2.0])\n",
    "# Define the sets of variables\n",
    "variables_units_list = [\n",
    "    (\"Air Temperature at 2m\", \"DegF\", \"Dynamical\", \"hourly\", [2.0]),\n",
    "    (\"Wind speed at 10m\", \"mph\", \"Dynamical\", \"hourly\", [2.0]),\n",
    "    (\"Relative humidity\", \"percent\", \"Dynamical\", \"hourly\", [2.0])\n",
    "]\n",
    "\n",
    "# Initialize dataset variables\n",
    "t_ds = None\n",
    "rh_ds = None\n",
    "wd_ds = None\n",
    "\n",
    "# Loop through each set of variables and process them\n",
    "for variables_units in variables_units_list:\n",
    "    variable, unit, downscale, timescale, GWL = variables_units\n",
    "    print(variable, unit, downscale, timescale, GWL)\n",
    "    print(f\"Processing variable: {variable}\")\n",
    "    logging.info(f\"Processing variable: {variable}\")\n",
    "    start_time = time.time()\n",
    "    ds = get_data(\n",
    "        variable=variable,\n",
    "        units=unit,\n",
    "        downscaling_method=downscale,\n",
    "        resolution=\"3 km\",\n",
    "        timescale=timescale,\n",
    "        cached_area=\"Southern California Edison\",\n",
    "        approach=\"Warming Level\",\n",
    "        warming_level_window=15,\n",
    "        warming_level=GWL\n",
    "    )\n",
    "    print(f\"data retreived in {time.time() - start_time:.2f} seconds.\")\n",
    "    logging.info(f\"data retreived in {time.time() - start_time:.2f} seconds.\")\n",
    "    # Assign the dataset to the corresponding variable\n",
    "    if variable == \"Air Temperature at 2m\":\n",
    "        t_ds = ds\n",
    "    elif variable == \"Wind speed at 10m\":\n",
    "        wd_ds = ds\n",
    "    elif variable == \"Relative humidity\":\n",
    "        rh_ds = ds\n",
    "\n",
    "start_time = time.time()\n",
    "ds = xr.combine_by_coords([t_ds, rh_ds, wd_ds])\n",
    "del t_ds, rh_ds, wd_ds\n",
    "\n",
    "hours_in_year = 365 * 24\n",
    "# Calculate the hour of the year\n",
    "hour_of_year = ds['time_delta'].values % hours_in_year\n",
    "# Assign the new hour_of_year coordinate to the dataset\n",
    "ds = ds.assign_coords(hour_of_year=('time_delta', hour_of_year))\n",
    "\n",
    "hours_in_month = np.array([31, 28, 31, 30, 31, 30, 31, 31, 30, 31, 30, 31]) * 24\n",
    "cumulative_hours = np.cumsum(hours_in_month)\n",
    "\n",
    "# Function to map hour_of_year to month\n",
    "def hour_to_month(hour):\n",
    "    return np.searchsorted(cumulative_hours, hour) + 1\n",
    "\n",
    "# Apply the function to calculate the month for each hour_of_year\n",
    "months = hour_to_month(ds['hour_of_year'].values)\n",
    "ds = ds.assign_coords(month=('time_delta', months))\n",
    "\n",
    "print(f\"data grouped in {time.time() - start_time:.2f} seconds.\")\n",
    "logging.info(f\"data grouped in {time.time() - start_time:.2f} seconds.\")\n",
    "\n",
    "print(ds)"
   ]
  },
  {
   "cell_type": "code",
   "execution_count": 3,
   "id": "31d4248c-fc0b-4eae-bdbc-c93087bbf118",
   "metadata": {
    "tags": []
   },
   "outputs": [],
   "source": [
    "def fosberg_fire_index(t2_F, rh_percent, windspeed_mph):\n",
    "    \"\"\"Compute the Fosberg Fire Weather Index.\"\"\"\n",
    "    print(\"Compute the Fosberg Fire Weather Index...\")\n",
    "    m_low, m_mid, m_high = _equilibrium_moisture_constant(h=rh_percent, T=t2_F)\n",
    "    m = xr.where(rh_percent < 10, m_low, m_mid)\n",
    "    m = xr.where(rh_percent > 50, m_high, m)\n",
    "    n = _moisture_dampening_coeff(m)\n",
    "    U = windspeed_mph\n",
    "    tmp = (n * ((1 + U**2) ** 0.5)) / 0.3002\n",
    "    FFWI = tmp.clip(min=0.0, max=100.0)\n",
    "    for coord in list(FFWI.coords):\n",
    "        FFWI[coord].attrs = t2_F[coord].attrs\n",
    "    FFWI.name = \"Fosberg Fire Weather Index\"\n",
    "    FFWI.attrs[\"units\"] = \"[0 to 100]\"\n",
    "    return FFWI\n",
    "\n",
    "def _equilibrium_moisture_constant(h, T):\n",
    "    print(\"Compute the EMC...\")\n",
    "    m_low = 0.03229 + 0.281073 * h - 0.000578 * h * T\n",
    "    m_mid = 2.22749 + 0.160107 * h - 0.01478 * T\n",
    "    m_high = 21.0606 + 0.005565 * (h**2) - 0.00035 * h * T - 0.483199 * h\n",
    "    return (m_low, m_mid, m_high)\n",
    "\n",
    "def _moisture_dampening_coeff(m):\n",
    "    print(\"Compute the MDC...\")\n",
    "    n = 1 - 2 * (m / 30) + 1.5 * (m / 30) ** 2 - 0.5 * (m / 30) ** 3\n",
    "    return n"
   ]
  },
  {
   "cell_type": "code",
   "execution_count": 4,
   "id": "0ac172e1-3944-4e3d-a4a5-0a352cc0355e",
   "metadata": {
    "tags": []
   },
   "outputs": [
    {
     "name": "stdout",
     "output_type": "stream",
     "text": [
      "Total memory usage for the chunk: 1364.14 MB\n"
     ]
    }
   ],
   "source": [
    "\n",
    "# Define larger chunk dimensions and data type\n",
    "chunk_dims = {'warming_level': 1, 'time_delta': 10000, 'y': 240, 'x': 149, 'simulation': 1}\n",
    "data_type = np.float32  # Change this to the appropriate data type\n",
    "\n",
    "# Calculate the number of elements in the chunk\n",
    "num_elements = np.prod(list(chunk_dims.values()))\n",
    "\n",
    "# Calculate the size of each element\n",
    "element_size = data_type().nbytes\n",
    "\n",
    "# Calculate the total memory usage\n",
    "total_memory_bytes = num_elements * element_size\n",
    "total_memory_mb = total_memory_bytes / (1024 * 1024)\n",
    "\n",
    "print(f\"Total memory usage for the chunk: {total_memory_mb:.2f} MB\")"
   ]
  },
  {
   "cell_type": "code",
   "execution_count": null,
   "id": "ea874650-05da-47fd-89e8-2e8b497fd08d",
   "metadata": {
    "tags": []
   },
   "outputs": [
    {
     "name": "stdout",
     "output_type": "stream",
     "text": [
      "Compute the Fosberg Fire Weather Index...\n",
      "Compute the EMC...\n",
      "Compute the MDC...\n"
     ]
    }
   ],
   "source": [
    "\n",
    "\n",
    "# Write to the log file\n",
    "logging.info(\"Processing FWI\")\n",
    "\n",
    "def print_resource_usage():\n",
    "    \"\"\"Print the current CPU and memory usage.\"\"\"\n",
    "    cpu_percent = psutil.cpu_percent(interval=1)\n",
    "    memory_info = psutil.virtual_memory()\n",
    "    memory_percent = memory_info.percent\n",
    "    logging.info(f\"CPU usage: {cpu_percent}%\")\n",
    "    logging.info(f\"Memory usage: {memory_percent}%\")\n",
    "\n",
    "# Initialize Dask client\n",
    "logging.info(\"Initializing Dask client...\")\n",
    "client = Client(n_workers=14, threads_per_worker=1, memory_limit='10GB', dashboard_address=':8788')\n",
    "logging.info(\"Dask client initialized.\")\n",
    "print_resource_usage()\n",
    "\n",
    "# Define chunk size based on your data dimensions and memory constraints\n",
    "chunk_size = {'warming_level': 1, 'time_delta': 288, 'y': 24, 'x': 9, 'simulation': 1}\n",
    "logging.info(\"Chunking dataset...\")\n",
    "ds_chunked = ds.chunk(chunks=chunk_size)\n",
    "logging.info(\"Dataset chunked.\")\n",
    "print_resource_usage()\n",
    "\n",
    "# Extract the variables from the dataset\n",
    "logging.info(\"Extracting variables...\")\n",
    "temp_month = ds_chunked['Air Temperature at 2m']\n",
    "humidity_month = ds_chunked['Relative humidity']\n",
    "wind_month = ds_chunked['Wind speed at 10m']\n",
    "logging.info(\"Variables extracted.\")\n",
    "print_resource_usage()\n",
    "\n",
    "# Calculate the Fosberg Fire Weather Index for the current month\n",
    "logging.info(\"Calculating Fosberg Fire Weather Index...\")\n",
    "start_time = time.time()\n",
    "fwi_dask = fosberg_fire_index(temp_month, humidity_month, wind_month)\n",
    "end_time = time.time()\n",
    "logging.info(f\"Fosberg Fire Weather Index calculated in {(end_time - start_time) / 60:.2f} minutes.\")\n",
    "print_resource_usage()\n",
    "\n",
    "# Average by hour_of_year dimension to make an hourly climatology\n",
    "logging.info(\"Calculating hourly climatology...\")\n",
    "start_time = time.time()\n",
    "pbar = ProgressBar()\n",
    "pbar.register()\n",
    "hour_of_year_mean = fwi_dask.groupby('hour_of_year').mean(dim='time_delta', skipna=True).compute()\n",
    "end_time = time.time()\n",
    "logging.info(f\"Hourly climatology calculated in {(end_time - start_time) / 60:.2f} minutes.\")\n",
    "print_resource_usage()\n",
    "\n",
    "# Calculate monthly MAX\n",
    "logging.info(\"Calculating monthly maximum...\")\n",
    "start_time = time.time()\n",
    "pbar = ProgressBar()\n",
    "pbar.register()\n",
    "monthly_max_FWI = hour_of_year_mean.groupby('month').max(dim='hour_of_year', skipna=True).compute()\n",
    "end_time = time.time()\n",
    "logging.info(f\"Monthly maximum calculated in {(end_time - start_time) / 60:.2f} minutes.\")\n",
    "print_resource_usage()\n",
    "\n",
    "# Save to NetCDF with compression\n",
    "logging.info(\"Saving to NetCDF...\")\n",
    "start_time = time.time()\n",
    "encoding = {monthly_max_FWI.name: {'zlib': True, 'complevel': 5}}\n",
    "with ProgressBar():\n",
    "    monthly_max_FWI.to_netcdf('FFWI_GWL2_avg.nc', encoding=encoding)\n",
    "end_time = time.time()\n",
    "logging.info(f\"Saved to NetCDF in {(end_time - start_time) / 60:.2f} minutes.\")\n",
    "print_resource_usage()\n",
    "\n",
    "# Close the dataset\n",
    "logging.info(\"Closing dataset...\")\n",
    "ds_chunked.close()\n",
    "logging.info(\"Dataset closed.\")\n",
    "print_resource_usage()\n",
    "\n",
    "# Properly shut down the Dask client\n",
    "logging.info(\"Shutting down Dask client...\")\n",
    "client.close()\n",
    "logging.info(\"Dask client shut down.\")"
   ]
  },
  {
   "cell_type": "code",
   "execution_count": null,
   "id": "fd07ce67-28fd-4495-8efb-95615969f68c",
   "metadata": {},
   "outputs": [],
   "source": [
    "xx"
   ]
  },
  {
   "cell_type": "code",
   "execution_count": null,
   "id": "7d5b1fc3-de71-4481-b1de-092732e53af9",
   "metadata": {},
   "outputs": [],
   "source": []
  },
  {
   "cell_type": "code",
   "execution_count": null,
   "id": "f00055b1-6e95-4280-a1fc-8aaa870f62ed",
   "metadata": {},
   "outputs": [],
   "source": []
  },
  {
   "cell_type": "code",
   "execution_count": null,
   "id": "521bee3a-f700-4265-b4d0-5b50f8a6306b",
   "metadata": {},
   "outputs": [],
   "source": []
  },
  {
   "cell_type": "code",
   "execution_count": null,
   "id": "947fdd1f-ab5e-4e59-b749-956f8c157173",
   "metadata": {
    "tags": []
   },
   "outputs": [],
   "source": [
    "\n",
    "\n",
    "def print_resource_usage():\n",
    "    \"\"\"Print the current CPU and memory usage.\"\"\"\n",
    "    cpu_percent = psutil.cpu_percent(interval=1)\n",
    "    memory_info = psutil.virtual_memory()\n",
    "    memory_percent = memory_info.percent\n",
    "    print(f\"CPU usage: {cpu_percent}%\")\n",
    "    print(f\"Memory usage: {memory_percent}%\")\n",
    "\n",
    "# Initialize Dask client\n",
    "print(\"Initializing Dask client...\")\n",
    "client = Client(n_workers=14, threads_per_worker=1, memory_limit='10GB', dashboard_address=':8788')\n",
    "print(\"Dask client initialized.\")\n",
    "print_resource_usage()\n",
    "\n",
    "# Define chunk size based on your data dimensions and memory constraints\n",
    "chunk_size = {'warming_level': 1, 'time_delta': 288, 'y': 24, 'x': 9, 'simulation': 1}\n",
    "print(\"Chunking dataset...\")\n",
    "ds_chunked = ds.chunk(chunks=chunk_size)\n",
    "print(\"Dataset chunked.\")\n",
    "print_resource_usage()\n",
    "\n",
    "# Extract the variables from the dataset\n",
    "print(\"Extracting variables...\")\n",
    "temp_month = ds_chunked['Air Temperature at 2m']\n",
    "humidity_month = ds_chunked['Relative humidity']\n",
    "wind_month = ds_chunked['Wind speed at 10m']\n",
    "print(\"Variables extracted.\")\n",
    "print_resource_usage()\n",
    "\n",
    "# Calculate the Fosberg Fire Weather Index for the current month\n",
    "print(\"Calculating Fosberg Fire Weather Index...\")\n",
    "start_time = time.time()\n",
    "fwi_dask = fosberg_fire_index(temp_month, humidity_month, wind_month)\n",
    "end_time = time.time()\n",
    "print(f\"Fosberg Fire Weather Index calculated in {(end_time - start_time) / 60:.2f} minutes.\")\n",
    "print_resource_usage()\n",
    "\n",
    "# Average by hour_of_year dimension to make an hourly climatology\n",
    "print(\"Calculating hourly climatology...\")\n",
    "start_time = time.time()\n",
    "pbar = ProgressBar()\n",
    "pbar.register()\n",
    "hour_of_year_mean = fwi_dask.groupby('hour_of_year').mean(dim='time_delta', skipna=True).compute()\n",
    "end_time = time.time()\n",
    "print(f\"Hourly climatology calculated in {(end_time - start_time) / 60:.2f} minutes.\")\n",
    "print_resource_usage()\n",
    "\n",
    "# Calculate monthly MAX\n",
    "print(\"Calculating monthly maximum...\")\n",
    "start_time = time.time()\n",
    "pbar = ProgressBar()\n",
    "pbar.register()\n",
    "monthly_max_FWI = hour_of_year_mean.groupby('month').max(dim='hour_of_year', skipna=True).compute()\n",
    "end_time = time.time()\n",
    "print(f\"Monthly maximum calculated in {(end_time - start_time) / 60:.2f} minutes.\")\n",
    "print_resource_usage()\n",
    "\n",
    "# Save to NetCDF with compression\n",
    "print(\"Saving to NetCDF...\")\n",
    "start_time = time.time()\n",
    "encoding = {monthly_max_FWI.name: {'zlib': True, 'complevel': 5}}\n",
    "with ProgressBar():\n",
    "    monthly_max_FWI.to_netcdf('FFWI_GWL2_avg.nc', encoding=encoding)\n",
    "end_time = time.time()\n",
    "print(f\"Saved to NetCDF in {(end_time - start_time) / 60:.2f} minutes.\")\n",
    "print_resource_usage()\n",
    "\n",
    "# Close the dataset\n",
    "print(\"Closing dataset...\")\n",
    "ds_chunked.close()\n",
    "print(\"Dataset closed.\")\n",
    "print_resource_usage()\n",
    "\n",
    "# Properly shut down the Dask client\n",
    "print(\"Shutting down Dask client...\")\n",
    "client.close()\n",
    "print(\"Dask client shut down.\")"
   ]
  },
  {
   "cell_type": "code",
   "execution_count": null,
   "id": "b1d64273-9825-459b-a67f-c2f6b27910d4",
   "metadata": {},
   "outputs": [],
   "source": []
  },
  {
   "cell_type": "code",
   "execution_count": null,
   "id": "e3318743-8be4-496e-86cf-d82bc84efda5",
   "metadata": {},
   "outputs": [],
   "source": []
  },
  {
   "cell_type": "code",
   "execution_count": null,
   "id": "fbb0ad8d-4e53-48f0-a56a-fde404771537",
   "metadata": {},
   "outputs": [],
   "source": []
  },
  {
   "cell_type": "code",
   "execution_count": null,
   "id": "ed34a081-5f80-49c1-b410-ea7f40e56fb2",
   "metadata": {},
   "outputs": [],
   "source": []
  },
  {
   "cell_type": "code",
   "execution_count": null,
   "id": "08d35a6a-70fd-4e4d-9544-bfc9cb451869",
   "metadata": {},
   "outputs": [],
   "source": []
  },
  {
   "cell_type": "code",
   "execution_count": null,
   "id": "8d1b2c5c-5f2c-41ec-9912-33cbdf797607",
   "metadata": {
    "tags": []
   },
   "outputs": [
    {
     "name": "stdout",
     "output_type": "stream",
     "text": [
      "<xarray.DataArray 'Fosberg Fire Weather Index' (warming_level: 1,\n",
      "                                                time_delta: 262800, y: 240,\n",
      "                                                x: 149, simulation: 8)> Size: 301GB\n",
      "dask.array<clip, shape=(1, 262800, 240, 149, 8), dtype=float32, chunksize=(1, 288, 24, 9, 1), chunktype=numpy.ndarray>\n",
      "Coordinates: (12/13)\n",
      "  * warming_level      (warming_level) float64 8B 2.0\n",
      "  * x                  (x) float64 1kB -4.236e+06 -4.233e+06 ... -3.792e+06\n",
      "  * y                  (y) float64 2kB 5.899e+05 5.929e+05 ... 1.307e+06\n",
      "    lakemask           (y, x) float32 143kB dask.array<chunksize=(24, 9), meta=np.ndarray>\n",
      "    landmask           (y, x) float32 143kB dask.array<chunksize=(24, 9), meta=np.ndarray>\n",
      "    lat                (y, x) float32 143kB dask.array<chunksize=(24, 9), meta=np.ndarray>\n",
      "    ...                 ...\n",
      "    Lambert_Conformal  int64 8B 0\n",
      "  * time_delta         (time_delta) float64 2MB -1.314e+05 ... 1.314e+05\n",
      "    centered_year      (simulation) int64 64B dask.array<chunksize=(1,), meta=np.ndarray>\n",
      "  * simulation         (simulation) <U44 1kB 'WRF_CESM2_r11i1p1f1_historical+...\n",
      "    hour_of_year       (time_delta) float64 2MB dask.array<chunksize=(288,), meta=np.ndarray>\n",
      "    month              (time_delta) int64 2MB dask.array<chunksize=(288,), meta=np.ndarray>\n",
      "Attributes:\n",
      "    variable_id:           rh_derived\n",
      "    extended_description:  The percentage of water vapor (i.e. moisture) rela...\n",
      "    units:                 [0 to 100]\n",
      "    data_type:             Gridded\n",
      "    resolution:            3 km\n",
      "    frequency:             hourly\n",
      "    location_subset:       ['Southern California Edison']\n",
      "    approach:              Warming Level\n",
      "    downscaling_method:    Dynamical\n",
      "    warming_level_window:  +/- 15 years from centered year\n",
      "    institution:           Multiple\n",
      "    grid_mapping:          Lambert_Conformal\n"
     ]
    }
   ],
   "source": [
    "print(fwi_dask)"
   ]
  },
  {
   "cell_type": "code",
   "execution_count": null,
   "id": "4ce1d56f-d676-44d1-83be-416ef9905387",
   "metadata": {
    "tags": []
   },
   "outputs": [
    {
     "name": "stdout",
     "output_type": "stream",
     "text": [
      "1743022698.2312553\n"
     ]
    }
   ],
   "source": [
    "start_time = time.time()\n",
    "print(start_time)\n",
    "hour_of_year_mean = fwi_dask.groupby('hour_of_year').mean(dim='time_delta', skipna=True)\n",
    "print(hour_of_year_mean)\n",
    "print(f\"mean hour of year {time.time() - start_time:.2f} seconds.\")"
   ]
  },
  {
   "cell_type": "code",
   "execution_count": null,
   "id": "b52144a4-90f8-4d49-8694-7246cc40d05c",
   "metadata": {
    "tags": []
   },
   "outputs": [],
   "source": [
    "# Apply the function to calculate the month for each hour_of_year\n",
    "months = hour_to_month(hour_of_year_mean['hour_of_year'].values)\n",
    "hour_of_year_mean = hour_of_year_mean.assign_coords(month=('hour_of_year', months))\n",
    "\n",
    "print(hour_of_year_mean)"
   ]
  },
  {
   "cell_type": "code",
   "execution_count": null,
   "id": "6d0aa5a3-4efc-4ebf-a4fb-9d19b50868a1",
   "metadata": {
    "tags": []
   },
   "outputs": [
    {
     "name": "stdout",
     "output_type": "stream",
     "text": [
      "1743016585.2668443\n",
      "mean hour of year 239.09 seconds.\n"
     ]
    }
   ],
   "source": [
    "start_time = time.time()\n",
    "print(start_time)\n",
    "monthly_max_FWI = hour_of_year_mean.groupby('month').max(dim='hour_of_year', skipna=True).compute\n",
    "print(f\"mean hour of year {time.time() - start_time:.2f} seconds.\")"
   ]
  },
  {
   "cell_type": "code",
   "execution_count": null,
   "id": "6e960354-ea2a-4856-bf69-8fd0d1b1b9c4",
   "metadata": {
    "tags": []
   },
   "outputs": [
    {
     "name": "stdout",
     "output_type": "stream",
     "text": [
      "<xarray.DataArray 'Fosberg Fire Weather Index' (warming_level: 1, month: 12,\n",
      "                                                y: 240, x: 149, simulation: 8)> Size: 14MB\n",
      "dask.array<transpose, shape=(1, 12, 240, 149, 8), dtype=float32, chunksize=(1, 1, 24, 9, 1), chunktype=numpy.ndarray>\n",
      "Coordinates:\n",
      "  * warming_level      (warming_level) float64 8B 2.0\n",
      "  * x                  (x) float64 1kB -4.236e+06 -4.233e+06 ... -3.792e+06\n",
      "  * y                  (y) float64 2kB 5.899e+05 5.929e+05 ... 1.307e+06\n",
      "    lakemask           (y, x) float32 143kB dask.array<chunksize=(24, 9), meta=np.ndarray>\n",
      "    landmask           (y, x) float32 143kB dask.array<chunksize=(24, 9), meta=np.ndarray>\n",
      "    lat                (y, x) float32 143kB dask.array<chunksize=(24, 9), meta=np.ndarray>\n",
      "    lon                (y, x) float32 143kB dask.array<chunksize=(24, 9), meta=np.ndarray>\n",
      "    Lambert_Conformal  int64 8B 0\n",
      "    centered_year      (simulation) int64 64B dask.array<chunksize=(1,), meta=np.ndarray>\n",
      "  * simulation         (simulation) <U44 1kB 'WRF_CESM2_r11i1p1f1_historical+...\n",
      "  * month              (month) int64 96B 1 2 3 4 5 6 7 8 9 10 11 12\n",
      "Attributes:\n",
      "    variable_id:           rh_derived\n",
      "    extended_description:  The percentage of water vapor (i.e. moisture) rela...\n",
      "    units:                 [0 to 100]\n",
      "    data_type:             Gridded\n",
      "    resolution:            3 km\n",
      "    frequency:             hourly\n",
      "    location_subset:       ['Southern California Edison']\n",
      "    approach:              Warming Level\n",
      "    downscaling_method:    Dynamical\n",
      "    warming_level_window:  +/- 15 years from centered year\n",
      "    institution:           Multiple\n",
      "    grid_mapping:          Lambert_Conformal\n"
     ]
    }
   ],
   "source": [
    "print(monthly_max_FWI)"
   ]
  },
  {
   "cell_type": "code",
   "execution_count": null,
   "id": "81a0bf0d-91fd-4eef-96a2-6562be3316a3",
   "metadata": {},
   "outputs": [],
   "source": []
  },
  {
   "cell_type": "code",
   "execution_count": null,
   "id": "55a8a2e6-48f6-456d-8231-cef50ee4427a",
   "metadata": {
    "tags": []
   },
   "outputs": [
    {
     "name": "stdout",
     "output_type": "stream",
     "text": [
      "Exporting specified data to NetCDF...\n",
      "Saving file locally as NetCDF4...\n"
     ]
    }
   ],
   "source": [
    "import climakitae as ck\n",
    "ck.export(monthly_max_FWI, filename=\"monthly_max_FWI\", format=\"NetCDF\")"
   ]
  },
  {
   "cell_type": "code",
   "execution_count": null,
   "id": "64ad0636-57d0-4052-a436-98f0bd82d6c9",
   "metadata": {},
   "outputs": [],
   "source": []
  },
  {
   "cell_type": "code",
   "execution_count": null,
   "id": "b107523a-c945-4811-b119-8e8976a64f36",
   "metadata": {
    "tags": []
   },
   "outputs": [],
   "source": [
    "5181.42/60"
   ]
  },
  {
   "cell_type": "code",
   "execution_count": null,
   "id": "2a632381-e9ef-4f7a-83e4-f9b348abbd2d",
   "metadata": {
    "tags": []
   },
   "outputs": [
    {
     "data": {
      "text/plain": [
       "99.05"
      ]
     },
     "execution_count": 8,
     "metadata": {},
     "output_type": "execute_result"
    }
   ],
   "source": [
    "5943/60"
   ]
  },
  {
   "cell_type": "code",
   "execution_count": null,
   "id": "3bb27a6f-ff1f-4cad-969b-d2b076dcc923",
   "metadata": {
    "tags": []
   },
   "outputs": [],
   "source": [
    "# Group by the new month coordinate and calculate the mean\n",
    "# print(f\"Calculating hourly climatology for {variable}...\")\n",
    "# hour_of_year_max = fwi_dask.groupby('hour_of_year').max(dim='time_delta', skipna=True)\n",
    "# hour_of_year_med = fwi_dask.groupby('hour_of_year').median(dim='time_delta', skipna=True)\n",
    "# hour_of_year_min = fwi_dask.groupby('hour_of_year').min(dim='time_delta', skipna=True)"
   ]
  },
  {
   "cell_type": "code",
   "execution_count": null,
   "id": "abcc1f95-14b3-422e-9023-14022b8b61d6",
   "metadata": {
    "tags": []
   },
   "outputs": [
    {
     "name": "stdout",
     "output_type": "stream",
     "text": [
      "<xarray.DataArray 'Fosberg Fire Weather Index' (warming_level: 1,\n",
      "                                                hour_of_year: 8760, y: 240,\n",
      "                                                x: 149, simulation: 8)> Size: 10GB\n",
      "dask.array<transpose, shape=(1, 8760, 240, 149, 8), dtype=float32, chunksize=(1, 1, 24, 9, 1), chunktype=numpy.ndarray>\n",
      "Coordinates:\n",
      "  * warming_level      (warming_level) float64 8B 2.0\n",
      "  * x                  (x) float64 1kB -4.236e+06 -4.233e+06 ... -3.792e+06\n",
      "  * y                  (y) float64 2kB 5.899e+05 5.929e+05 ... 1.307e+06\n",
      "    lakemask           (y, x) float32 143kB dask.array<chunksize=(24, 9), meta=np.ndarray>\n",
      "    landmask           (y, x) float32 143kB dask.array<chunksize=(24, 9), meta=np.ndarray>\n",
      "    lat                (y, x) float32 143kB dask.array<chunksize=(24, 9), meta=np.ndarray>\n",
      "    lon                (y, x) float32 143kB dask.array<chunksize=(24, 9), meta=np.ndarray>\n",
      "    Lambert_Conformal  int64 8B 0\n",
      "    centered_year      (simulation) int64 64B dask.array<chunksize=(1,), meta=np.ndarray>\n",
      "  * simulation         (simulation) <U44 1kB 'WRF_CESM2_r11i1p1f1_historical+...\n",
      "  * hour_of_year       (hour_of_year) float64 70kB 0.0 1.0 ... 8.759e+03\n",
      "Attributes:\n",
      "    variable_id:           rh_derived\n",
      "    extended_description:  The percentage of water vapor (i.e. moisture) rela...\n",
      "    units:                 [0 to 100]\n",
      "    data_type:             Gridded\n",
      "    resolution:            3 km\n",
      "    frequency:             hourly\n",
      "    location_subset:       ['Southern California Edison']\n",
      "    approach:              Warming Level\n",
      "    downscaling_method:    Dynamical\n",
      "    warming_level_window:  +/- 15 years from centered year\n",
      "    institution:           Multiple\n",
      "    grid_mapping:          Lambert_Conformal\n"
     ]
    }
   ],
   "source": [
    "print(hour_of_year_mean)"
   ]
  },
  {
   "cell_type": "code",
   "execution_count": null,
   "id": "88b54476-e0f9-4e33-9c20-74c45ca21321",
   "metadata": {
    "tags": []
   },
   "outputs": [
    {
     "name": "stderr",
     "output_type": "stream",
     "text": [
      "/opt/conda/envs/climakitae/lib/python3.12/site-packages/distributed/node.py:187: UserWarning: Port 8787 is already in use.\n",
      "Perhaps you already have a cluster running?\n",
      "Hosting the HTTP server on port 43569 instead\n",
      "  warnings.warn(\n"
     ]
    }
   ],
   "source": [
    "import xarray as xr\n",
    "from dask.distributed import Client\n",
    "\n",
    "# Initialize Dask client\n",
    "# client = Client(n_workers=32, threads_per_worker=1, memory_limit='7GB')\n",
    "\n",
    "# Define compression settings\n",
    "encoding = {hour_of_year_mean.name: {'zlib': True, 'complevel': 5}}\n",
    "\n",
    "# Save to NetCDF with compression\n",
    "hour_of_year_mean.to_netcdf('FFWI_GWL2_avg.nc', encoding=encoding)\n",
    "\n",
    "# Monitor Dask progress\n",
    "# client"
   ]
  },
  {
   "cell_type": "code",
   "execution_count": null,
   "id": "6a1ec1a4-ba3e-4dd5-bf1c-2862276b7180",
   "metadata": {},
   "outputs": [],
   "source": [
    "ck.export(data_to_use, filename=\"my_filename1\", format=\"NetCDF\")"
   ]
  },
  {
   "cell_type": "code",
   "execution_count": null,
   "id": "f306c55a-d687-47c3-9ef6-e97126789309",
   "metadata": {
    "tags": []
   },
   "outputs": [],
   "source": [
    "print('done')"
   ]
  },
  {
   "cell_type": "code",
   "execution_count": null,
   "id": "3334d8ba-4461-4c84-acfe-0924dc6aa870",
   "metadata": {},
   "outputs": [],
   "source": []
  },
  {
   "cell_type": "code",
   "execution_count": null,
   "id": "fa316f93-9562-446d-82dd-1c841c389943",
   "metadata": {},
   "outputs": [],
   "source": []
  },
  {
   "cell_type": "code",
   "execution_count": null,
   "id": "a1d27722-da54-4990-bf17-a892f7544a34",
   "metadata": {},
   "outputs": [],
   "source": []
  },
  {
   "cell_type": "code",
   "execution_count": null,
   "id": "e23feb8b-5e9d-4f19-ab4b-f7e8a188dde2",
   "metadata": {},
   "outputs": [],
   "source": []
  },
  {
   "cell_type": "code",
   "execution_count": null,
   "id": "11f54c81-e42b-4561-b1eb-0f225bc5cf92",
   "metadata": {},
   "outputs": [],
   "source": []
  },
  {
   "cell_type": "code",
   "execution_count": null,
   "id": "df124c01-3bb2-41ba-9051-a2a5edcbbcb2",
   "metadata": {},
   "outputs": [],
   "source": []
  }
 ],
 "metadata": {
  "environment": {
   "kernel": "climakitae",
   "name": "workbench-notebooks.m128",
   "type": "gcloud",
   "uri": "us-docker.pkg.dev/deeplearning-platform-release/gcr.io/workbench-notebooks:m128"
  },
  "kernelspec": {
   "display_name": "Python climakitae (Local)",
   "language": "python",
   "name": "climakitae"
  },
  "language_info": {
   "codemirror_mode": {
    "name": "ipython",
    "version": 3
   },
   "file_extension": ".py",
   "mimetype": "text/x-python",
   "name": "python",
   "nbconvert_exporter": "python",
   "pygments_lexer": "ipython3",
   "version": "3.12.7"
  }
 },
 "nbformat": 4,
 "nbformat_minor": 5
}
