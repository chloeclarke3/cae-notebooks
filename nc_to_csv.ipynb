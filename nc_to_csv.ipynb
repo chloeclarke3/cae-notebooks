{
 "cells": [
  {
   "cell_type": "code",
   "execution_count": 2,
   "id": "f3f51bce-f9b9-4b0b-9179-75f0c3717438",
   "metadata": {
    "tags": []
   },
   "outputs": [
    {
     "name": "stdout",
     "output_type": "stream",
     "text": [
      "['/home/jupyter/cae-notebooks/CRE_data/Minimum air temperature at 2m_GWL1.0_50th.nc', '/home/jupyter/cae-notebooks/CRE_data/Maximum air temperature at 2m_GWL1.5_50th.nc', '/home/jupyter/cae-notebooks/CRE_data/Precipitation (total)_GWL1.0_50th.nc', '/home/jupyter/cae-notebooks/CRE_data/Precipitation (total)_GWL2.0_90th.nc', '/home/jupyter/cae-notebooks/CRE_data/Precipitation (total)_GWL1.5_50th.nc', '/home/jupyter/cae-notebooks/CRE_data/Minimum air temperature at 2m_GWL2.0_50th.nc', '/home/jupyter/cae-notebooks/CRE_data/Minimum air temperature at 2m_GWL2.0_90th.nc', '/home/jupyter/cae-notebooks/CRE_data/Maximum air temperature at 2m_GWL2.0_50th.nc', '/home/jupyter/cae-notebooks/CRE_data/Minimum air temperature at 2m_GWL1.5_50th.nc', '/home/jupyter/cae-notebooks/CRE_data/Maximum air temperature at 2m_GWL2.0_90th.nc', '/home/jupyter/cae-notebooks/CRE_data/Minimum air temperature at 2m_GWL1.5_90th.nc', '/home/jupyter/cae-notebooks/CRE_data/Precipitation (total)_GWL1.5_90th.nc', '/home/jupyter/cae-notebooks/CRE_data/Precipitation (total)_GWL2.0_50th.nc', '/home/jupyter/cae-notebooks/CRE_data/Maximum air temperature at 2m_GWL1.0_50th.nc', '/home/jupyter/cae-notebooks/CRE_data/Maximum air temperature at 2m_GWL1.0_90th.nc']\n",
      "done\n"
     ]
    }
   ],
   "source": [
    "import pandas as pd\n",
    "import xarray as xr\n",
    "import os\n",
    "import glob\n",
    "\n",
    "if __name__ == '__main__':\n",
    "    _dir = os.getcwd()\n",
    "    _loc_files = glob.glob(_dir + '/CRE_data/*.nc')\n",
    "print(_loc_files)\n",
    "\n",
    "print('done')"
   ]
  },
  {
   "cell_type": "code",
   "execution_count": 4,
   "id": "8bf6bc86-b366-4c7e-a3df-19907e32e345",
   "metadata": {
    "tags": []
   },
   "outputs": [
    {
     "name": "stdout",
     "output_type": "stream",
     "text": [
      "<xarray.Dataset> Size: 3MB\n",
      "Dimensions:                        (lat: 171, lon: 196, month: 12)\n",
      "Coordinates:\n",
      "    warming_level                  float64 8B ...\n",
      "  * lat                            (lat) float32 684B 33.17 33.2 ... 38.45 38.48\n",
      "  * lon                            (lon) float32 784B -120.2 -120.2 ... -114.1\n",
      "  * month                          (month) float64 96B 1.0 2.0 3.0 ... 11.0 12.0\n",
      "    quantile                       float64 8B ...\n",
      "Data variables:\n",
      "    __xarray_dataarray_variable__  (month, lat, lon) float64 3MB ...\n"
     ]
    }
   ],
   "source": [
    "ds = xr.open_dataset('/home/jupyter/cae-notebooks/CRE_data/Precipitation (total)_GWL2.0_90th.nc')\n",
    "print(ds)"
   ]
  },
  {
   "cell_type": "code",
   "execution_count": 3,
   "id": "593ef9b1-2341-4ce6-8c7d-9a18f20ff31b",
   "metadata": {
    "tags": []
   },
   "outputs": [],
   "source": [
    "\n",
    "# Dictionary to shorten the nc file name prefixes\n",
    "prefix_dict = {\n",
    "    \"Maximum air temperature at 2m\": \"MaxT\",\n",
    "    \"Minimum air temperature at 2m\": \"MinT\",\n",
    "    \"Precipitation (total)\": \"Prc\",\n",
    "    \"Maximum wind speed at 10m\": \"MaxW\"\n",
    "}\n",
    "\n",
    "# Function to convert nc file to a dictionary of DataFrames and sheet name prefix\n",
    "def nc_to_dfs(nc_file):\n",
    "    ds = xr.open_dataset(nc_file)\n",
    "    file_name = os.path.splitext(os.path.basename(nc_file))[0]\n",
    "    \n",
    "    # Find the matching prefix and shorten it\n",
    "    for long_prefix, short_prefix in prefix_dict.items():\n",
    "        if file_name.startswith(long_prefix):\n",
    "            sheet_name_prefix = file_name.replace(long_prefix, short_prefix)\n",
    "            break\n",
    "    else:\n",
    "        sheet_name_prefix = file_name  # Use the full name if no match is found\n",
    "    \n",
    "    dfs = {sheet_name_prefix: ds.to_dataframe().dropna().reset_index()}\n",
    "    return dfs\n",
    "\n",
    "# Function to add gridcode to DataFrames based on matching lat, lon\n",
    "def add_gridcode_to_dfs(dfs_list, gridcode_df):\n",
    "    for dfs in dfs_list:\n",
    "        for sheet_name, df in dfs.items():\n",
    "            df_with_gridcode = pd.merge(df, gridcode_df, on=['lat', 'lon'], how='right')\n",
    "            dfs[sheet_name] = df_with_gridcode\n",
    "    return dfs_list\n",
    "\n",
    "# Function to save grouped DataFrames to separate Excel files\n",
    "def save_grouped_dfs_to_excel(dfs_grouped):\n",
    "    for prefix, dfs_list in dfs_grouped.items():\n",
    "        with pd.ExcelWriter(f\"{prefix}.xlsx\", engine='xlsxwriter') as writer:\n",
    "            for dfs in dfs_list:\n",
    "                for sheet_name, df in dfs.items():\n",
    "                    df.to_excel(writer, sheet_name=sheet_name[:31], index=False)  # Excel sheet names must be <= 31 characters\n",
    "\n",
    "# Example usage\n",
    "nc_files = _loc_files  # Replace with your .nc file paths\n",
    "\n",
    "# Read the CSV file with lat, lon, and gridcode\n",
    "gridcode_csv = '~/cae-notebooks/SCE_ST_LOCA_LatLon_Gridcodes.csv'\n",
    "gridcode_df = pd.read_csv(gridcode_csv)\n",
    "\n",
    "# Group DataFrames by prefix\n",
    "dfs_grouped = {short_prefix: [] for short_prefix in prefix_dict.values()}\n",
    "for nc_file in nc_files:\n",
    "    dfs = nc_to_dfs(nc_file)\n",
    "    dfs_list_with_gridcode = add_gridcode_to_dfs([dfs], gridcode_df)\n",
    "    for sheet_name in dfs.keys():\n",
    "        prefix = sheet_name.split('_')[0]\n",
    "        dfs_grouped[prefix].append(dfs_list_with_gridcode[0])\n",
    "\n",
    "# Save grouped DataFrames to separate Excel files\n",
    "save_grouped_dfs_to_excel(dfs_grouped)\n",
    "\n",
    "# print(f\"Converted {nc_files} to separate Excel files for each variable and added gridcodes.\")"
   ]
  },
  {
   "cell_type": "code",
   "execution_count": null,
   "id": "d2af6a21-0a74-4de1-bf20-c412c6a4c0ec",
   "metadata": {},
   "outputs": [],
   "source": []
  }
 ],
 "metadata": {
  "environment": {
   "kernel": "climakitae",
   "name": "workbench-notebooks.m128",
   "type": "gcloud",
   "uri": "us-docker.pkg.dev/deeplearning-platform-release/gcr.io/workbench-notebooks:m128"
  },
  "kernelspec": {
   "display_name": "Python climakitae (Local)",
   "language": "python",
   "name": "climakitae"
  },
  "language_info": {
   "codemirror_mode": {
    "name": "ipython",
    "version": 3
   },
   "file_extension": ".py",
   "mimetype": "text/x-python",
   "name": "python",
   "nbconvert_exporter": "python",
   "pygments_lexer": "ipython3",
   "version": "3.12.7"
  }
 },
 "nbformat": 4,
 "nbformat_minor": 5
}
