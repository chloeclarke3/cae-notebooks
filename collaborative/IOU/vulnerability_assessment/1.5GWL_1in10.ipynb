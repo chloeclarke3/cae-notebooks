{
 "cells": [
  {
   "cell_type": "markdown",
   "metadata": {},
   "source": [
    "# Vulnerability Assessment Pilot\n",
    "This notebook demonstrates on-going development of climate adaptation vulnerability assessment (CAVA) support using climate data in the Analytics Engine. \n",
    "\n",
    "To execute a given 'cell' of this notebook, place the cursor in the cell and press the 'play' icon, or simply press shift+enter together. Some cells will take longer to run, and you will see a [$\\ast$] to the left of the cell while AE is still working.\n",
    "\n",
    "**Intended Application**: As a user, I want to **<span style=\"color:#FF0000\">access climate projections data for my vulnerability assessment report</span>** by:\n",
    "1. Retrieve data metrics required for planning needs\n",
    "\n",
    "**Runtime**: With the default settings, this notebook takes approximately **several hours** to run from start to finish, depending on the metric choice. Modifications to selections may increase the runtime. \n",
    "\n",
    "### Step 0: Set-up\n",
    "\n",
    "First, we'll import the Python library [climakitae](https://github.com/cal-adapt/climakitae), our AE toolkit for climate data analysis, along with this specific functions from that library that we'll use in this notebook, as well as any other necessary Python libraries to aid in analysis."
   ]
  },
  {
   "cell_type": "code",
   "execution_count": null,
   "metadata": {},
   "outputs": [
    {
     "ename": "",
     "evalue": "",
     "output_type": "error",
     "traceback": [
      "\u001b[1;31mRunning cells with 'Python 3.11.9' requires the ipykernel package.\n",
      "\u001b[1;31mRun the following command to install 'ipykernel' into the Python environment. \n",
      "\u001b[1;31mCommand: 'c:/Users/clarkec3/AppData/Local/Microsoft/WindowsApps/python3.11.exe -m pip install ipykernel -U --user --force-reinstall'"
     ]
    }
   ],
   "source": [
    "from climakitae.explore.vulnerability import cava_data\n",
    "from climakitae.explore.vulnerability_table import create_vul_table"
   ]
  },
  {
   "cell_type": "code",
   "execution_count": null,
   "metadata": {},
   "outputs": [],
   "source": [
    "import os\n",
    "_dir = os.getcwd()\n",
    "_loc_file = _dir + '/lat_lon_SCE_grids.csv'\n",
    "locs = read_csv_file(_loc_file,index_col=0)[['lat', 'lon']]\n",
    "print(locs[2:10])"
   ]
  },
  {
   "cell_type": "code",
   "execution_count": null,
   "metadata": {},
   "outputs": [],
   "source": [
    "data = cava_data(\n",
    "    ## Set-up\n",
    "    example_locs.iloc[1:3], # select a single location\n",
    "    approach=\"Warming Level\",  \n",
    "    warming_level=1.5,\n",
    "    downscaling_method=\"Statistical\",  # WRF data \n",
    "    wrf_bias_adjust=True, # return bias adjusted WRF models\n",
    "    \n",
    "    ## 1-in-X event specific arguments\n",
    "    variable=\"Air Temperature at 2m\",\n",
    "    metric_calc=\"max\", # daily maximum temperature\n",
    "    one_in_x=10, # One-in-X\n",
    "    distr=\"gev\", # change distribution\n",
    "    units=\"degF\", # change units\n",
    "    \n",
    "    ## Export\n",
    "    export_method=\"both\",\n",
    "    file_format=\"NetCDF\",\n",
    "    batch_mode=True,\n",
    ")"
   ]
  }
 ],
 "metadata": {
  "kernelspec": {
   "display_name": "Python 3",
   "language": "python",
   "name": "python3"
  },
  "language_info": {
   "name": "python",
   "version": "3.11.9"
  }
 },
 "nbformat": 4,
 "nbformat_minor": 2
}
