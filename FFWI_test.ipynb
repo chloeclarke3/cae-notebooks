{
 "cells": [
  {
   "cell_type": "code",
   "execution_count": 1,
   "id": "d66524b9-edc4-45a4-979b-cd7f1ef6d24f",
   "metadata": {
    "tags": []
   },
   "outputs": [
    {
     "name": "stdout",
     "output_type": "stream",
     "text": [
      "done\n"
     ]
    }
   ],
   "source": [
    "from climakitae.core.data_interface import (\n",
    "    get_data_options, \n",
    "    get_subsetting_options, \n",
    "    get_data\n",
    ")\n",
    "\n",
    "import numpy as np\n",
    "import matplotlib.pyplot as plt\n",
    "import xarray as xr\n",
    "import climakitae as ck\n",
    "\n",
    "print('done')"
   ]
  },
  {
   "cell_type": "code",
   "execution_count": 2,
   "id": "540aada6-c8ce-48ba-b902-39b553eb0571",
   "metadata": {
    "tags": []
   },
   "outputs": [
    {
     "name": "stdout",
     "output_type": "stream",
     "text": [
      "Fosberg fire weather index [0 to 100] Dynamical hourly [2.0]\n",
      "Processing variable: Fosberg fire weather index\n",
      "!!!!!!!!!!!!!!!!!!!!!!!!!!!!!!!!!!!!!!!!!!!!!!!!!!!!!!!!!!!!!!!!!!!!!!!!!!!!!!!!!!!!!!!!!!!!!!!!!!\n",
      "!!! Returned data array is huge. Operations could take 10x to infinity longer than 1GB of data !!!\n",
      "!!!!!!!!!!!!!!!!!!!!!!!!!!!!!!!!!!!!!!!!!!!!!!!!!!!!!!!!!!!!!!!!!!!!!!!!!!!!!!!!!!!!!!!!!!!!!!!!!!\n",
      "\n"
     ]
    }
   ],
   "source": [
    "variables_units = (\"Fosberg fire weather index\",\"[0 to 100]\",\"Dynamical\",\"hourly\",[2.0])\n",
    "variable, unit,downscale,timescale,GWL = variables_units\n",
    "print(variable,unit,downscale,timescale,GWL)\n",
    "print(f\"Processing variable: {variable}\")\n",
    "ds = get_data(\n",
    "    variable=variable,\n",
    "    # units=unit,\n",
    "    downscaling_method=downscale,\n",
    "    resolution=\"3 km\",\n",
    "    timescale=timescale,\n",
    "    cached_area=\"Southern California Edison\",\n",
    "    approach=\"Warming Level\",\n",
    "    warming_level_window=15,\n",
    "    warming_level=GWL\n",
    ")\n"
   ]
  },
  {
   "cell_type": "code",
   "execution_count": 3,
   "id": "83705a50-1372-422c-aa10-ef4386d9510a",
   "metadata": {
    "tags": []
   },
   "outputs": [
    {
     "name": "stdout",
     "output_type": "stream",
     "text": [
      "<xarray.DataArray np.str_('Fosberg fire weather index') (warming_level: 1,\n",
      "                                                         time_delta: 262800,\n",
      "                                                         y: 240, x: 149,\n",
      "                                                         simulation: 8)> Size: 301GB\n",
      "dask.array<getitem, shape=(1, 262800, 240, 149, 8), dtype=float32, chunksize=(1, 1608, 54, 33, 1), chunktype=numpy.ndarray>\n",
      "Coordinates:\n",
      "  * warming_level      (warming_level) float64 8B 2.0\n",
      "  * x                  (x) float64 1kB -4.236e+06 -4.233e+06 ... -3.792e+06\n",
      "  * y                  (y) float64 2kB 5.899e+05 5.929e+05 ... 1.307e+06\n",
      "    lakemask           (y, x) float32 143kB 0.0 0.0 0.0 0.0 ... 0.0 0.0 0.0 0.0\n",
      "    landmask           (y, x) float32 143kB 0.0 0.0 0.0 0.0 ... 1.0 1.0 1.0 1.0\n",
      "    lat                (y, x) float32 143kB 31.49 31.5 31.52 ... 39.19 39.21\n",
      "    lon                (y, x) float32 143kB -117.7 -117.7 ... -118.2 -118.2\n",
      "    Lambert_Conformal  int64 8B 0\n",
      "  * time_delta         (time_delta) float64 2MB -1.314e+05 ... 1.314e+05\n",
      "    centered_year      (simulation) int64 64B 2043 2049 2034 ... 2053 2045 2040\n",
      "  * simulation         (simulation) <U44 1kB 'WRF_CESM2_r11i1p1f1_historical+...\n",
      "    hour_of_year       (time_delta) float64 2MB 0.0 1.0 ... 8.758e+03 8.759e+03\n",
      "Attributes:\n",
      "    variable_id:           fosberg_index_derived\n",
      "    extended_description:  Fire weather index using meteorological inputs (te...\n",
      "    units:                 [0 to 100]\n",
      "    data_type:             Gridded\n",
      "    resolution:            3 km\n",
      "    frequency:             hourly\n",
      "    location_subset:       ['Southern California Edison']\n",
      "    approach:              Warming Level\n",
      "    downscaling_method:    Dynamical\n",
      "    warming_level_window:  +/- 15 years from centered year\n",
      "    institution:           Multiple\n",
      "    grid_mapping:          Lambert_Conformal\n",
      "<xarray.DataArray np.str_('Fosberg fire weather index') (warming_level: 1,\n",
      "                                                         hour_of_year: 8760,\n",
      "                                                         y: 240, x: 149,\n",
      "                                                         simulation: 8)> Size: 10GB\n",
      "dask.array<transpose, shape=(1, 8760, 240, 149, 8), dtype=float32, chunksize=(1, 1, 54, 33, 1), chunktype=numpy.ndarray>\n",
      "Coordinates:\n",
      "  * warming_level      (warming_level) float64 8B 2.0\n",
      "  * x                  (x) float64 1kB -4.236e+06 -4.233e+06 ... -3.792e+06\n",
      "  * y                  (y) float64 2kB 5.899e+05 5.929e+05 ... 1.307e+06\n",
      "    lat                (y, x) float32 143kB 31.49 31.5 31.52 ... 39.19 39.21\n",
      "    lon                (y, x) float32 143kB -117.7 -117.7 ... -118.2 -118.2\n",
      "    Lambert_Conformal  int64 8B 0\n",
      "    centered_year      (simulation) int64 64B 2043 2049 2034 ... 2053 2045 2040\n",
      "  * simulation         (simulation) <U44 1kB 'WRF_CESM2_r11i1p1f1_historical+...\n",
      "  * hour_of_year       (hour_of_year) float64 70kB 0.0 1.0 ... 8.759e+03\n",
      "Attributes:\n",
      "    variable_id:           fosberg_index_derived\n",
      "    extended_description:  Fire weather index using meteorological inputs (te...\n",
      "    units:                 [0 to 100]\n",
      "    data_type:             Gridded\n",
      "    resolution:            3 km\n",
      "    frequency:             hourly\n",
      "    location_subset:       ['Southern California Edison']\n",
      "    approach:              Warming Level\n",
      "    downscaling_method:    Dynamical\n",
      "    warming_level_window:  +/- 15 years from centered year\n",
      "    institution:           Multiple\n",
      "    grid_mapping:          Lambert_Conformal\n",
      "<xarray.DataArray np.str_('Fosberg fire weather index') (warming_level: 1,\n",
      "                                                         hour_of_year: 8760,\n",
      "                                                         y: 240, x: 149,\n",
      "                                                         simulation: 8)> Size: 10GB\n",
      "dask.array<transpose, shape=(1, 8760, 240, 149, 8), dtype=float32, chunksize=(1, 1, 54, 33, 1), chunktype=numpy.ndarray>\n",
      "Coordinates:\n",
      "  * warming_level      (warming_level) float64 8B 2.0\n",
      "  * x                  (x) float64 1kB -4.236e+06 -4.233e+06 ... -3.792e+06\n",
      "  * y                  (y) float64 2kB 5.899e+05 5.929e+05 ... 1.307e+06\n",
      "    lat                (y, x) float32 143kB 31.49 31.5 31.52 ... 39.19 39.21\n",
      "    lon                (y, x) float32 143kB -117.7 -117.7 ... -118.2 -118.2\n",
      "    Lambert_Conformal  int64 8B 0\n",
      "    centered_year      (simulation) int64 64B 2043 2049 2034 ... 2053 2045 2040\n",
      "  * simulation         (simulation) <U44 1kB 'WRF_CESM2_r11i1p1f1_historical+...\n",
      "  * hour_of_year       (hour_of_year) float64 70kB 0.0 1.0 ... 8.759e+03\n",
      "Attributes:\n",
      "    variable_id:           fosberg_index_derived\n",
      "    extended_description:  Fire weather index using meteorological inputs (te...\n",
      "    units:                 [0 to 100]\n",
      "    data_type:             Gridded\n",
      "    resolution:            3 km\n",
      "    frequency:             hourly\n",
      "    location_subset:       ['Southern California Edison']\n",
      "    approach:              Warming Level\n",
      "    downscaling_method:    Dynamical\n",
      "    warming_level_window:  +/- 15 years from centered year\n",
      "    institution:           Multiple\n",
      "    grid_mapping:          Lambert_Conformal\n",
      "<xarray.DataArray np.str_('Fosberg fire weather index') (warming_level: 1,\n",
      "                                                         month: 12, y: 240,\n",
      "                                                         x: 149, simulation: 8)> Size: 14MB\n",
      "dask.array<transpose, shape=(1, 12, 240, 149, 8), dtype=float32, chunksize=(1, 1, 54, 33, 1), chunktype=numpy.ndarray>\n",
      "Coordinates:\n",
      "  * warming_level      (warming_level) float64 8B 2.0\n",
      "  * x                  (x) float64 1kB -4.236e+06 -4.233e+06 ... -3.792e+06\n",
      "  * y                  (y) float64 2kB 5.899e+05 5.929e+05 ... 1.307e+06\n",
      "    lat                (y, x) float32 143kB 31.49 31.5 31.52 ... 39.19 39.21\n",
      "    lon                (y, x) float32 143kB -117.7 -117.7 ... -118.2 -118.2\n",
      "    Lambert_Conformal  int64 8B 0\n",
      "    centered_year      (simulation) int64 64B 2043 2049 2034 ... 2053 2045 2040\n",
      "  * simulation         (simulation) <U44 1kB 'WRF_CESM2_r11i1p1f1_historical+...\n",
      "  * month              (month) int64 96B 1 2 3 4 5 6 7 8 9 10 11 12\n",
      "Attributes:\n",
      "    variable_id:           fosberg_index_derived\n",
      "    extended_description:  Fire weather index using meteorological inputs (te...\n",
      "    units:                 [0 to 100]\n",
      "    data_type:             Gridded\n",
      "    resolution:            3 km\n",
      "    frequency:             hourly\n",
      "    location_subset:       ['Southern California Edison']\n",
      "    approach:              Warming Level\n",
      "    downscaling_method:    Dynamical\n",
      "    warming_level_window:  +/- 15 years from centered year\n",
      "    institution:           Multiple\n",
      "    grid_mapping:          Lambert_Conformal\n"
     ]
    }
   ],
   "source": [
    "hours_in_year = 365 * 24\n",
    "# Calculate the hour of the year\n",
    "hour_of_year = ds['time_delta'].values % hours_in_year\n",
    "# Assign the new hour_of_year coordinate to the dataset\n",
    "ds = ds.assign_coords(hour_of_year=('time_delta', hour_of_year))\n",
    "print(ds)\n",
    "ds = ds.drop_vars(['landmask', 'lakemask'])\n",
    "hourly_mean = ds.groupby('hour_of_year').mean(dim='time_delta', skipna=True)\n",
    "print(hourly_mean)\n",
    "del ds\n",
    "hours_in_month = np.array([31, 28, 31, 30, 31, 30, 31, 31, 30, 31, 30, 31]) * 24\n",
    "cumulative_hours = np.cumsum(hours_in_month)\n",
    "# Function to map hour_of_year to month\n",
    "def hour_to_month(hour):\n",
    "    return np.searchsorted(cumulative_hours, hour) + 1\n",
    "\n",
    "# Apply the function to calculate the month for each hour_of_year\n",
    "\n",
    "print(hourly_mean)\n",
    "months = hour_to_month(hourly_mean['hour_of_year'].values)\n",
    "hourly_mean = hourly_mean.assign_coords(month=('hour_of_year', months))\n",
    "\n",
    "monthly_max = hourly_mean.groupby('month').max(dim='hour_of_year', skipna=True)\n",
    "print(monthly_max)"
   ]
  },
  {
   "cell_type": "code",
   "execution_count": 4,
   "id": "c3c3a693-682e-4288-a5db-8f5dd84a3819",
   "metadata": {
    "tags": []
   },
   "outputs": [
    {
     "name": "stdout",
     "output_type": "stream",
     "text": [
      "{10: <xarray.DataArray np.str_('Fosberg fire weather index') (warming_level: 1,\n",
      "                                                         month: 12, y: 240,\n",
      "                                                         x: 149)> Size: 3MB\n",
      "dask.array<getitem, shape=(1, 12, 240, 149), dtype=float64, chunksize=(1, 9, 240, 149), chunktype=numpy.ndarray>\n",
      "Coordinates:\n",
      "  * warming_level  (warming_level) float64 8B 2.0\n",
      "  * x              (x) float64 1kB -4.236e+06 -4.233e+06 ... -3.792e+06\n",
      "  * y              (y) float64 2kB 5.899e+05 5.929e+05 ... 1.304e+06 1.307e+06\n",
      "    lat            (y, x) float32 143kB 31.49 31.5 31.52 ... 39.18 39.19 39.21\n",
      "    lon            (y, x) float32 143kB -117.7 -117.7 -117.7 ... -118.2 -118.2\n",
      "  * month          (month) int64 96B 1 2 3 4 5 6 7 8 9 10 11 12\n",
      "    quantile       float64 8B 0.1\n",
      "Attributes:\n",
      "    variable_id:           fosberg_index_derived\n",
      "    extended_description:  Fire weather index using meteorological inputs (te...\n",
      "    units:                 [0 to 100]\n",
      "    data_type:             Gridded\n",
      "    resolution:            3 km\n",
      "    frequency:             hourly\n",
      "    location_subset:       ['Southern California Edison']\n",
      "    approach:              Warming Level\n",
      "    downscaling_method:    Dynamical\n",
      "    warming_level_window:  +/- 15 years from centered year\n",
      "    institution:           Multiple\n",
      "    grid_mapping:          Lambert_Conformal, 50: <xarray.DataArray np.str_('Fosberg fire weather index') (warming_level: 1,\n",
      "                                                         month: 12, y: 240,\n",
      "                                                         x: 149)> Size: 3MB\n",
      "dask.array<getitem, shape=(1, 12, 240, 149), dtype=float64, chunksize=(1, 9, 240, 149), chunktype=numpy.ndarray>\n",
      "Coordinates:\n",
      "  * warming_level  (warming_level) float64 8B 2.0\n",
      "  * x              (x) float64 1kB -4.236e+06 -4.233e+06 ... -3.792e+06\n",
      "  * y              (y) float64 2kB 5.899e+05 5.929e+05 ... 1.304e+06 1.307e+06\n",
      "    lat            (y, x) float32 143kB 31.49 31.5 31.52 ... 39.18 39.19 39.21\n",
      "    lon            (y, x) float32 143kB -117.7 -117.7 -117.7 ... -118.2 -118.2\n",
      "  * month          (month) int64 96B 1 2 3 4 5 6 7 8 9 10 11 12\n",
      "    quantile       float64 8B 0.5\n",
      "Attributes:\n",
      "    variable_id:           fosberg_index_derived\n",
      "    extended_description:  Fire weather index using meteorological inputs (te...\n",
      "    units:                 [0 to 100]\n",
      "    data_type:             Gridded\n",
      "    resolution:            3 km\n",
      "    frequency:             hourly\n",
      "    location_subset:       ['Southern California Edison']\n",
      "    approach:              Warming Level\n",
      "    downscaling_method:    Dynamical\n",
      "    warming_level_window:  +/- 15 years from centered year\n",
      "    institution:           Multiple\n",
      "    grid_mapping:          Lambert_Conformal, 90: <xarray.DataArray np.str_('Fosberg fire weather index') (warming_level: 1,\n",
      "                                                         month: 12, y: 240,\n",
      "                                                         x: 149)> Size: 3MB\n",
      "dask.array<getitem, shape=(1, 12, 240, 149), dtype=float64, chunksize=(1, 9, 240, 149), chunktype=numpy.ndarray>\n",
      "Coordinates:\n",
      "  * warming_level  (warming_level) float64 8B 2.0\n",
      "  * x              (x) float64 1kB -4.236e+06 -4.233e+06 ... -3.792e+06\n",
      "  * y              (y) float64 2kB 5.899e+05 5.929e+05 ... 1.304e+06 1.307e+06\n",
      "    lat            (y, x) float32 143kB 31.49 31.5 31.52 ... 39.18 39.19 39.21\n",
      "    lon            (y, x) float32 143kB -117.7 -117.7 -117.7 ... -118.2 -118.2\n",
      "  * month          (month) int64 96B 1 2 3 4 5 6 7 8 9 10 11 12\n",
      "    quantile       float64 8B 0.9\n",
      "Attributes:\n",
      "    variable_id:           fosberg_index_derived\n",
      "    extended_description:  Fire weather index using meteorological inputs (te...\n",
      "    units:                 [0 to 100]\n",
      "    data_type:             Gridded\n",
      "    resolution:            3 km\n",
      "    frequency:             hourly\n",
      "    location_subset:       ['Southern California Edison']\n",
      "    approach:              Warming Level\n",
      "    downscaling_method:    Dynamical\n",
      "    warming_level_window:  +/- 15 years from centered year\n",
      "    institution:           Multiple\n",
      "    grid_mapping:          Lambert_Conformal}\n"
     ]
    }
   ],
   "source": [
    "percentiles = [10,50,90]\n",
    "percentile_values_ts = {p: monthly_max.quantile(p / 100.0, dim='simulation', skipna=True) for p in percentiles}\n",
    "print(percentile_values_ts)"
   ]
  },
  {
   "cell_type": "code",
   "execution_count": null,
   "id": "bc2a5710-47cf-4475-b1a7-227aaf042dc3",
   "metadata": {
    "tags": []
   },
   "outputs": [
    {
     "name": "stdout",
     "output_type": "stream",
     "text": [
      "Exporting specified data to NetCDF...\n",
      "Saving file locally as NetCDF4...\n"
     ]
    }
   ],
   "source": [
    "ck.export(percentile_values_ts[50], \"Fosberg fire weather index_GWL2.0_8760_climo_GWL2.0_50th.nc\", \"NetCDF\")\n",
    "\n",
    "print('done')"
   ]
  },
  {
   "cell_type": "code",
   "execution_count": null,
   "id": "1d7755ac-0763-4908-999e-aa95128ff66d",
   "metadata": {
    "tags": []
   },
   "outputs": [],
   "source": [
    "print('done')"
   ]
  },
  {
   "cell_type": "code",
   "execution_count": null,
   "id": "2ffc496c-e3ab-4de1-81b1-e04c5e7abb4f",
   "metadata": {},
   "outputs": [],
   "source": []
  },
  {
   "cell_type": "code",
   "execution_count": null,
   "id": "ed92a1f6-9be3-45e1-a14e-f9fbbe757de7",
   "metadata": {},
   "outputs": [],
   "source": []
  },
  {
   "cell_type": "code",
   "execution_count": null,
   "id": "56332f02-1db9-42ee-a069-154bf86d0079",
   "metadata": {},
   "outputs": [],
   "source": []
  },
  {
   "cell_type": "code",
   "execution_count": null,
   "id": "cc97381d-eb49-4dda-ac18-81081ac850d0",
   "metadata": {},
   "outputs": [],
   "source": []
  }
 ],
 "metadata": {
  "environment": {
   "kernel": "climakitae",
   "name": "workbench-notebooks.m128",
   "type": "gcloud",
   "uri": "us-docker.pkg.dev/deeplearning-platform-release/gcr.io/workbench-notebooks:m128"
  },
  "kernelspec": {
   "display_name": "Python climakitae (Local)",
   "language": "python",
   "name": "climakitae"
  },
  "language_info": {
   "codemirror_mode": {
    "name": "ipython",
    "version": 3
   },
   "file_extension": ".py",
   "mimetype": "text/x-python",
   "name": "python",
   "nbconvert_exporter": "python",
   "pygments_lexer": "ipython3",
   "version": "3.12.7"
  }
 },
 "nbformat": 4,
 "nbformat_minor": 5
}
